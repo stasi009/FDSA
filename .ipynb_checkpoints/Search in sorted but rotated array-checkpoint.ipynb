{
 "cells": [
  {
   "cell_type": "markdown",
   "metadata": {},
   "source": [
    "a more detailed explaination of the problem, see \"[Search an element in a sorted and rotated array](http://www.geeksforgeeks.org/search-an-element-in-a-sorted-and-pivoted-array/)\"\n",
    "\n",
    "for example, we want to find 5 in [3,4,5,1,2]"
   ]
  },
  {
   "cell_type": "markdown",
   "metadata": {},
   "source": [
    "there are two methods for this problem. both of them use Binary Search, and can solve the problem in O(logn) time\n",
    "\n",
    "* [Method 1: split and use normal Binary Search](#Method-1)"
   ]
  },
  {
   "cell_type": "markdown",
   "metadata": {},
   "source": [
    "## Method 1\n",
    "1. first find the pivot. Notice, we can use Binary Search to find the pivot\n",
    "2. split the whole array into two sub-array at pivot. Notice, both sub-array are sorted.\n",
    "3. decide which subarray to search.\n",
    "4. use binary search to search that subarray to find x"
   ]
  },
  {
   "cell_type": "code",
   "execution_count": 39,
   "metadata": {
    "collapsed": true
   },
   "outputs": [],
   "source": [
    "def find_minimum(arr):\n",
    "    low = 0\n",
    "    high = len(arr)-1\n",
    "    \n",
    "    # check whether the array is rotated or not\n",
    "    # if not rotated, just return the first element as the minimum\n",
    "    if arr[low] <= arr[high]:\n",
    "        return low\n",
    "    \n",
    "    while low <= high:\n",
    "        middle = (low+high)//2\n",
    "        \n",
    "        if middle < high and arr[middle] > arr[middle+1]:\n",
    "            return middle+1\n",
    "        \n",
    "        if middle > low and arr[middle] < arr[middle-1]:\n",
    "            return middle\n",
    "        \n",
    "        if arr[middle] > arr[high]:\n",
    "            low = middle+1\n",
    "        elif arr[middle] < arr[low]:\n",
    "            high = middle-1\n",
    "        else:\n",
    "            raise Exception(\"unexpected case\")\n",
    "            \n",
    "    raise Exception(\"unexpected case\")\n",
    "    return None"
   ]
  },
  {
   "cell_type": "code",
   "execution_count": 40,
   "metadata": {
    "collapsed": true
   },
   "outputs": [],
   "source": [
    "def __binary_search(arr,low,high,x):\n",
    "    while low <= high:\n",
    "        middle = (low+high)//2\n",
    "        \n",
    "        if arr[middle] == x:\n",
    "            return middle\n",
    "        elif arr[middle] < x:\n",
    "            low = middle+1\n",
    "        else: # arr[middle] > x:\n",
    "            high = middle-1\n",
    "    return -1# not found"
   ]
  },
  {
   "cell_type": "code",
   "execution_count": 41,
   "metadata": {
    "collapsed": true
   },
   "outputs": [],
   "source": [
    "def binsearch_rotated_split(arr,x):\n",
    "    low = 0\n",
    "    high = len(arr)-1\n",
    "    \n",
    "    if arr[low] <= arr[high]:\n",
    "        return __binary_search(arr,low,high,x)\n",
    "    \n",
    "    minindex = find_minimum(arr)\n",
    "    if arr[minindex] == x:\n",
    "        return minindex\n",
    "    \n",
    "    if x <= arr[high]:\n",
    "        return __binary_search(arr,minindex+1,high,x)\n",
    "    else:\n",
    "        return __binary_search(arr,low,minindex-1,x)"
   ]
  },
  {
   "cell_type": "code",
   "execution_count": 42,
   "metadata": {
    "collapsed": true
   },
   "outputs": [],
   "source": [
    "def test(arr,x,searcher):\n",
    "    index = searcher(arr,x)\n",
    "    if index < 0:\n",
    "        print \"%s doesn't contain %d\"%(arr,x)\n",
    "    else:\n",
    "        assert arr[index] == x\n",
    "        print \"%d in %s is at [%d]=%d\"%(x,arr,index,arr[index])"
   ]
  },
  {
   "cell_type": "code",
   "execution_count": 43,
   "metadata": {
    "collapsed": false
   },
   "outputs": [
    {
     "name": "stdout",
     "output_type": "stream",
     "text": [
      "2 in [3, 4, 5, 1, 2] is at [4]=2\n",
      "1 in [3, 4, 5, 1, 2] is at [3]=1\n",
      "3 in [3, 4, 5, 1, 2] is at [0]=3\n",
      "1 in [2, 3, 1] is at [2]=1\n",
      "[2, 1] doesn't contain -1\n",
      "1 in [1, 2] is at [0]=1\n"
     ]
    }
   ],
   "source": [
    "searcher = binsearch_rotated_split\n",
    "test([3, 4, 5, 1, 2],2,searcher)\n",
    "test([3, 4, 5, 1, 2],1,searcher)\n",
    "test([3, 4, 5, 1, 2],3,searcher)\n",
    "test([2,3, 1],1,searcher)\n",
    "test([2, 1],-1,searcher)\n",
    "test([1, 2],1,searcher)"
   ]
  },
  {
   "cell_type": "markdown",
   "metadata": {
    "collapsed": true
   },
   "source": [
    "## Method 2\n",
    "no need to split, directly use Binary Search"
   ]
  },
  {
   "cell_type": "code",
   "execution_count": 44,
   "metadata": {
    "collapsed": true
   },
   "outputs": [],
   "source": [
    "def binsearch_rotated_direct(arr,x):\n",
    "    low = 0\n",
    "    high = len(arr)-1\n",
    "    \n",
    "    while high - low >1:\n",
    "        middle = (low+high)//2\n",
    "        \n",
    "        if arr[middle] ==  x:\n",
    "            return middle\n",
    "        \n",
    "        if arr[middle] > arr[low]:# [low...middle] is sorted\n",
    "            if x >= arr[low] and x < arr[middle]:\n",
    "                high = middle-1\n",
    "            else:\n",
    "                low = middle+1\n",
    "                \n",
    "        elif arr[middle] < arr[low]: # [middle...high] is sorted\n",
    "            if x > arr[middle] and x <= arr[high]:\n",
    "                low = middle+1\n",
    "            else:\n",
    "                high = middle-1\n",
    "        else:\n",
    "            raise Exception(\"impossible\")\n",
    "                \n",
    "    if arr[high] == x:\n",
    "        return high\n",
    "    elif arr[low] == x:\n",
    "        return low\n",
    "    else:\n",
    "        return -1"
   ]
  },
  {
   "cell_type": "code",
   "execution_count": 45,
   "metadata": {
    "collapsed": false
   },
   "outputs": [
    {
     "name": "stdout",
     "output_type": "stream",
     "text": [
      "2 in [3, 4, 5, 1, 2] is at [4]=2\n",
      "1 in [3, 4, 5, 1, 2] is at [3]=1\n",
      "3 in [3, 4, 5, 1, 2] is at [0]=3\n",
      "1 in [2, 3, 1] is at [2]=1\n",
      "[2, 1] doesn't contain -1\n",
      "1 in [1, 2] is at [0]=1\n"
     ]
    }
   ],
   "source": [
    "searcher = binsearch_rotated_direct\n",
    "test([3, 4, 5, 1, 2],2,searcher)\n",
    "test([3, 4, 5, 1, 2],1,searcher)\n",
    "test([3, 4, 5, 1, 2],3,searcher)\n",
    "test([2,3, 1],1,searcher)\n",
    "test([2, 1],-1,searcher)\n",
    "test([1, 2],1,searcher)"
   ]
  },
  {
   "cell_type": "code",
   "execution_count": 46,
   "metadata": {
    "collapsed": false
   },
   "outputs": [
    {
     "name": "stdout",
     "output_type": "stream",
     "text": [
      "4 in [4, 5, 6, 7, 8, 9, 1, 2, 3] is at [0]=4\n",
      "5 in [4, 5, 6, 7, 8, 9, 1, 2, 3] is at [1]=5\n",
      "6 in [4, 5, 6, 7, 8, 9, 1, 2, 3] is at [2]=6\n",
      "7 in [4, 5, 6, 7, 8, 9, 1, 2, 3] is at [3]=7\n",
      "8 in [4, 5, 6, 7, 8, 9, 1, 2, 3] is at [4]=8\n",
      "9 in [4, 5, 6, 7, 8, 9, 1, 2, 3] is at [5]=9\n",
      "1 in [4, 5, 6, 7, 8, 9, 1, 2, 3] is at [6]=1\n",
      "2 in [4, 5, 6, 7, 8, 9, 1, 2, 3] is at [7]=2\n",
      "3 in [4, 5, 6, 7, 8, 9, 1, 2, 3] is at [8]=3\n"
     ]
    }
   ],
   "source": [
    "arr = [4, 5, 6, 7, 8, 9, 1, 2, 3]\n",
    "for d in arr:\n",
    "    test(arr,d,binsearch_rotated_direct)"
   ]
  },
  {
   "cell_type": "code",
   "execution_count": null,
   "metadata": {
    "collapsed": true
   },
   "outputs": [],
   "source": []
  }
 ],
 "metadata": {
  "kernelspec": {
   "display_name": "Python 2",
   "language": "python",
   "name": "python2"
  },
  "language_info": {
   "codemirror_mode": {
    "name": "ipython",
    "version": 2
   },
   "file_extension": ".py",
   "mimetype": "text/x-python",
   "name": "python",
   "nbconvert_exporter": "python",
   "pygments_lexer": "ipython2",
   "version": "2.7.11"
  }
 },
 "nbformat": 4,
 "nbformat_minor": 0
}
