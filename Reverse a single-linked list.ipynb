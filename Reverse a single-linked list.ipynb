{
 "cells": [
  {
   "cell_type": "code",
   "execution_count": 18,
   "metadata": {
    "collapsed": false
   },
   "outputs": [],
   "source": [
    "class Node(object):\n",
    "    def __init__(self,value,nextptr=None):\n",
    "        self.value = value\n",
    "        self.nextptr = nextptr\n",
    "        \n",
    "class LinkList(object):\n",
    "    def __init__(self):\n",
    "        self.head = None\n",
    "        self.tail = None\n",
    "        \n",
    "    def append(self,value):\n",
    "        node = Node(value)\n",
    "        if self.head is None:\n",
    "            self.head = node\n",
    "            assert self.tail is None\n",
    "            self.tail = node\n",
    "        else:\n",
    "            self.tail.nextptr = node\n",
    "            self.tail = node\n",
    "            \n",
    "    def show(self):\n",
    "        current = self.head\n",
    "        while current is not None:\n",
    "            print \"%s --> \"%current.value,\n",
    "            current = current.nextptr\n",
    "        print \"Nil\""
   ]
  },
  {
   "cell_type": "code",
   "execution_count": 19,
   "metadata": {
    "collapsed": false
   },
   "outputs": [
    {
     "name": "stdout",
     "output_type": "stream",
     "text": [
      "0 -->  1 -->  2 -->  3 -->  4 -->  5 -->  6 -->  7 -->  8 -->  9 -->  Nil\n"
     ]
    }
   ],
   "source": [
    "def create(seq):\n",
    "    llist = LinkList()\n",
    "    for x in seq:\n",
    "        llist.append(x)\n",
    "    return llist\n",
    "\n",
    "ll = create(xrange(10))\n",
    "ll.show()"
   ]
  },
  {
   "cell_type": "code",
   "execution_count": 20,
   "metadata": {
    "collapsed": true
   },
   "outputs": [],
   "source": [
    "def reverse_iterative(llist):\n",
    "    if llist.head is None or llist.head is llist.tail:\n",
    "        return\n",
    "    \n",
    "    prev = llist.head\n",
    "    current = prev.nextptr\n",
    "    \n",
    "    llist.tail = prev\n",
    "    prev.nextptr = None\n",
    "    \n",
    "    while current is not None:\n",
    "        nextptr = current.nextptr\n",
    "        current.nextptr = prev\n",
    "        \n",
    "        prev = current\n",
    "        current = nextptr\n",
    "        \n",
    "    llist.head = prev"
   ]
  },
  {
   "cell_type": "code",
   "execution_count": 21,
   "metadata": {
    "collapsed": true
   },
   "outputs": [],
   "source": [
    "def reverse_recursive(llist):\n",
    "    \n",
    "    def __reverse(head):\n",
    "        if head.nextptr is not None:\n",
    "            tail = __reverse(head.nextptr)\n",
    "            tail.nextptr = head\n",
    "        return head\n",
    "             \n",
    "    if llist.head is None:\n",
    "        return\n",
    "    \n",
    "    temp = llist.tail\n",
    "    llist.tail = __reverse(llist.head)\n",
    "    llist.tail.nextptr = None\n",
    "    llist.head = temp"
   ]
  },
  {
   "cell_type": "code",
   "execution_count": 22,
   "metadata": {
    "collapsed": false
   },
   "outputs": [],
   "source": [
    "def test_reverse(reverse_func):\n",
    "    llist = create(xrange(1,4))\n",
    "    print \"original list:\"\n",
    "    llist.show()\n",
    "    \n",
    "    print \"reverse:\"\n",
    "    reverse_func(llist)\n",
    "    llist.show()    \n",
    "    \n",
    "    print \"reverse back:\"\n",
    "    reverse_func(llist)\n",
    "    llist.show()\n",
    "    \n",
    "    for x in \"abc\":\n",
    "        llist.append(x)\n",
    "    print \"add more:\"\n",
    "    llist.show()\n",
    "    \n",
    "    print \"reverse again:\"\n",
    "    reverse_func(llist)\n",
    "    llist.show()"
   ]
  },
  {
   "cell_type": "code",
   "execution_count": 23,
   "metadata": {
    "collapsed": false
   },
   "outputs": [
    {
     "name": "stdout",
     "output_type": "stream",
     "text": [
      "######################## reverse using iterative method\n",
      "original list:\n",
      "1 -->  2 -->  3 -->  Nil\n",
      "reverse:\n",
      "3 -->  2 -->  1 -->  Nil\n",
      "reverse back:\n",
      "1 -->  2 -->  3 -->  Nil\n",
      "add more:\n",
      "1 -->  2 -->  3 -->  a -->  b -->  c -->  Nil\n",
      "reverse again:\n",
      "c -->  b -->  a -->  3 -->  2 -->  1 -->  Nil\n"
     ]
    }
   ],
   "source": [
    "print \"######################## reverse using iterative method\"\n",
    "test_reverse(reverse_iterative)"
   ]
  },
  {
   "cell_type": "code",
   "execution_count": 24,
   "metadata": {
    "collapsed": false
   },
   "outputs": [
    {
     "name": "stdout",
     "output_type": "stream",
     "text": [
      "######################## reverse using recursive method\n",
      "original list:\n",
      "1 -->  2 -->  3 -->  Nil\n",
      "reverse:\n",
      "3 -->  2 -->  1 -->  Nil\n",
      "reverse back:\n",
      "1 -->  2 -->  3 -->  Nil\n",
      "add more:\n",
      "1 -->  2 -->  3 -->  a -->  b -->  c -->  Nil\n",
      "reverse again:\n",
      "c -->  b -->  a -->  3 -->  2 -->  1 -->  Nil\n"
     ]
    }
   ],
   "source": [
    "print \"######################## reverse using recursive method\"\n",
    "test_reverse(reverse_recursive)"
   ]
  }
 ],
 "metadata": {
  "kernelspec": {
   "display_name": "Python 2",
   "language": "python",
   "name": "python2"
  },
  "language_info": {
   "codemirror_mode": {
    "name": "ipython",
    "version": 2
   },
   "file_extension": ".py",
   "mimetype": "text/x-python",
   "name": "python",
   "nbconvert_exporter": "python",
   "pygments_lexer": "ipython2",
   "version": "2.7.11"
  }
 },
 "nbformat": 4,
 "nbformat_minor": 0
}
