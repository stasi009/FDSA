{
 "cells": [
  {
   "cell_type": "markdown",
   "metadata": {},
   "source": [
    "Given an integer x, find square root of it. If x is not a perfect square, then return floor(sqrt(x))\n",
    "\n",
    "* Input: x = 4, Output: 2\n",
    "* Input: x = 11, Output: 3\n",
    "\n",
    "the solution for this problem is using ** Binary Search **"
   ]
  },
  {
   "cell_type": "code",
   "execution_count": 2,
   "metadata": {
    "collapsed": false
   },
   "outputs": [],
   "source": [
    "def int_square_root(x):\n",
    "    if x <0:\n",
    "        raise Exception(\"input must >= 0\")\n",
    "        \n",
    "    low = 0\n",
    "    high = x//2 if x>=4 else x\n",
    "    \n",
    "    while low <= high:\n",
    "        middle = (low+high)//2\n",
    "        \n",
    "        m_square = middle * middle\n",
    "        if m_square == x:\n",
    "            return middle\n",
    "        elif m_square < x:\n",
    "            low = middle+1\n",
    "        else: # m_square > x:\n",
    "            high = middle-1\n",
    "            \n",
    "    # at this time, high < low\n",
    "    return high"
   ]
  },
  {
   "cell_type": "code",
   "execution_count": 7,
   "metadata": {
    "collapsed": false
   },
   "outputs": [
    {
     "name": "stdout",
     "output_type": "stream",
     "text": [
      "[1 ] int_sqrt(0  )=0  , sqrt(0  )=0.00\n",
      "[2 ] int_sqrt(1  )=1  , sqrt(1  )=1.00\n",
      "[3 ] int_sqrt(2  )=1  , sqrt(2  )=1.41\n",
      "[4 ] int_sqrt(3  )=1  , sqrt(3  )=1.73\n",
      "[5 ] int_sqrt(4  )=2  , sqrt(4  )=2.00\n",
      "[6 ] int_sqrt(5  )=2  , sqrt(5  )=2.24\n",
      "[7 ] int_sqrt(6  )=2  , sqrt(6  )=2.45\n",
      "[8 ] int_sqrt(7  )=2  , sqrt(7  )=2.65\n",
      "[9 ] int_sqrt(8  )=2  , sqrt(8  )=2.83\n",
      "[10] int_sqrt(9  )=3  , sqrt(9  )=3.00\n",
      "[11] int_sqrt(10 )=3  , sqrt(10 )=3.16\n",
      "[12] int_sqrt(11 )=3  , sqrt(11 )=3.32\n",
      "[13] int_sqrt(12 )=3  , sqrt(12 )=3.46\n",
      "[14] int_sqrt(13 )=3  , sqrt(13 )=3.61\n",
      "[15] int_sqrt(14 )=3  , sqrt(14 )=3.74\n",
      "[16] int_sqrt(15 )=3  , sqrt(15 )=3.87\n",
      "[17] int_sqrt(16 )=4  , sqrt(16 )=4.00\n",
      "[18] int_sqrt(17 )=4  , sqrt(17 )=4.12\n",
      "[19] int_sqrt(18 )=4  , sqrt(18 )=4.24\n",
      "[20] int_sqrt(19 )=4  , sqrt(19 )=4.36\n",
      "[21] int_sqrt(20 )=4  , sqrt(20 )=4.47\n",
      "[22] int_sqrt(21 )=4  , sqrt(21 )=4.58\n",
      "[23] int_sqrt(22 )=4  , sqrt(22 )=4.69\n",
      "[24] int_sqrt(23 )=4  , sqrt(23 )=4.80\n",
      "[25] int_sqrt(24 )=4  , sqrt(24 )=4.90\n",
      "[26] int_sqrt(25 )=5  , sqrt(25 )=5.00\n",
      "[27] int_sqrt(26 )=5  , sqrt(26 )=5.10\n",
      "[28] int_sqrt(27 )=5  , sqrt(27 )=5.20\n",
      "[29] int_sqrt(28 )=5  , sqrt(28 )=5.29\n",
      "[30] int_sqrt(29 )=5  , sqrt(29 )=5.39\n"
     ]
    }
   ],
   "source": [
    "import math\n",
    "\n",
    "for index,x in enumerate(xrange(30)):\n",
    "    r = int_square_root(x)\n",
    "    print \"[%-2d] int_sqrt(%-3d)=%-3d, sqrt(%-3d)=%3.2f\"%(index+1,x,r,x,math.sqrt(x))"
   ]
  },
  {
   "cell_type": "code",
   "execution_count": null,
   "metadata": {
    "collapsed": true
   },
   "outputs": [],
   "source": []
  }
 ],
 "metadata": {
  "kernelspec": {
   "display_name": "Python 2",
   "language": "python",
   "name": "python2"
  },
  "language_info": {
   "codemirror_mode": {
    "name": "ipython",
    "version": 2
   },
   "file_extension": ".py",
   "mimetype": "text/x-python",
   "name": "python",
   "nbconvert_exporter": "python",
   "pygments_lexer": "ipython2",
   "version": "2.7.11"
  }
 },
 "nbformat": 4,
 "nbformat_minor": 0
}
