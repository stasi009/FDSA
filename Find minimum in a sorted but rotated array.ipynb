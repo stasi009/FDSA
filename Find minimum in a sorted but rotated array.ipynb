{
 "cells": [
  {
   "cell_type": "markdown",
   "metadata": {},
   "source": [
    "Find mimal in a sorted but rotated array\n",
    "we assume all elements are unique"
   ]
  },
  {
   "cell_type": "code",
   "execution_count": 13,
   "metadata": {
    "collapsed": true
   },
   "outputs": [],
   "source": [
    "def find_minimum(arr):\n",
    "    low = 0\n",
    "    high = len(arr)-1\n",
    "    \n",
    "    # check whether the array is rotated or not\n",
    "    # if not rotated, just return the first element as the minimum\n",
    "    if arr[low] <= arr[high]:\n",
    "        return low\n",
    "    \n",
    "    while low <= high:\n",
    "        middle = (low+high)//2\n",
    "        \n",
    "        if middle < high and arr[middle] > arr[middle+1]:\n",
    "            return middle+1\n",
    "        \n",
    "        if middle > low and arr[middle] < arr[middle-1]:\n",
    "            return middle\n",
    "        \n",
    "        if arr[middle] > arr[high]:\n",
    "            low = middle+1\n",
    "        elif arr[middle] < arr[low]:\n",
    "            high = middle-1\n",
    "        else:\n",
    "            raise Exception(\"unexpected case\")\n",
    "            \n",
    "    raise Exception(\"unexpected case\")\n",
    "    return None"
   ]
  },
  {
   "cell_type": "code",
   "execution_count": 16,
   "metadata": {
    "collapsed": true
   },
   "outputs": [],
   "source": [
    "def test(arr):\n",
    "    index = find_minimum(arr)\n",
    "    print \"minimum of %-30s is [%d]=%d\"%(arr,index,arr[index])"
   ]
  },
  {
   "cell_type": "code",
   "execution_count": 17,
   "metadata": {
    "collapsed": false
   },
   "outputs": [
    {
     "name": "stdout",
     "output_type": "stream",
     "text": [
      "minimum of [5, 6, 1, 2, 3, 4]             is [2]=1\n",
      "minimum of [1, 2, 3, 4]                   is [0]=1\n",
      "minimum of [1]                            is [0]=1\n",
      "minimum of [1, 2]                         is [0]=1\n",
      "minimum of [2, 1]                         is [1]=1\n",
      "minimum of [5, 6, 7, 1, 2, 3, 4]          is [3]=1\n",
      "minimum of [1, 2, 3, 4, 5, 6, 7]          is [0]=1\n",
      "minimum of [2, 3, 4, 5, 6, 7, 8, 1]       is [7]=1\n",
      "minimum of [3, 4, 5, 1, 2]                is [3]=1\n"
     ]
    }
   ],
   "source": [
    "testdatas = [[5, 6, 1, 2, 3, 4],\n",
    "            [1, 2, 3, 4],\n",
    "            [1],\n",
    "            [1,2],\n",
    "            [2,1],\n",
    "            [5, 6, 7, 1, 2, 3, 4],\n",
    "            [1, 2, 3, 4, 5, 6, 7],\n",
    "            [2, 3, 4, 5, 6, 7, 8, 1],\n",
    "            [3, 4, 5, 1, 2]]\n",
    "for d in testdatas:\n",
    "    test(d)"
   ]
  },
  {
   "cell_type": "code",
   "execution_count": null,
   "metadata": {
    "collapsed": true
   },
   "outputs": [],
   "source": []
  }
 ],
 "metadata": {
  "kernelspec": {
   "display_name": "Python 2",
   "language": "python",
   "name": "python2"
  },
  "language_info": {
   "codemirror_mode": {
    "name": "ipython",
    "version": 2
   },
   "file_extension": ".py",
   "mimetype": "text/x-python",
   "name": "python",
   "nbconvert_exporter": "python",
   "pygments_lexer": "ipython2",
   "version": "2.7.11"
  }
 },
 "nbformat": 4,
 "nbformat_minor": 0
}
